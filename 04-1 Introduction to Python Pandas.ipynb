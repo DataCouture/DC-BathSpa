{
 "cells": [
  {
   "cell_type": "markdown",
   "metadata": {},
   "source": [
    "### Task 1 - Installing and Importing Modules (Pandas)"
   ]
  },
  {
   "cell_type": "markdown",
   "metadata": {},
   "source": [
    "##### 1. Write a command to install the pandas library in your environment.\n",
    "\n",
    "Note: It’s important to install pandas because it provides data structures and data analysis tools for the Python programming language.\n",
    "\n",
    "Python raw would not need the % or !\n",
    "Depending on the verison of Jupyter Notebook a % or ! will be needed"
   ]
  },
  {
   "cell_type": "code",
   "execution_count": 1,
   "metadata": {},
   "outputs": [],
   "source": [
    "#already installed "
   ]
  },
  {
   "cell_type": "markdown",
   "metadata": {},
   "source": [
    "##### 2. Write a command to install a specific version (2.1.1) of pandas.\n",
    "\n",
    "Note: Sometimes, you might need to work with a specific version of pandas due to compatibility issues with other libraries or specific features available in that version"
   ]
  },
  {
   "cell_type": "code",
   "execution_count": null,
   "metadata": {},
   "outputs": [],
   "source": []
  },
  {
   "cell_type": "markdown",
   "metadata": {},
   "source": [
    "##### 3. Write a command to import the pandas library as ‘pd’.\n",
    "\n",
    "Note: It’s a common convention to import pandas as pd. This makes your code shorter and more readable."
   ]
  },
  {
   "cell_type": "code",
   "execution_count": null,
   "metadata": {},
   "outputs": [],
   "source": [
    "import pandas as pd"
   ]
  },
  {
   "cell_type": "markdown",
   "metadata": {},
   "source": [
    "##### 4. Write a command to create a pandas Series named ‘fruits’ with the values [‘apple’, ‘banana’, ‘cherry’].\n",
    "\n",
    "Note: A Series is a one-dimensional labeled array capable of holding any data type. It is one of the basic structures in pandas.\n"
   ]
  },
  {
   "cell_type": "code",
   "execution_count": 5,
   "metadata": {},
   "outputs": [],
   "source": [
    "data = ['apple', 'banana', 'cherry']\n",
    "series = pd.Series(data, name = \"MySeries\")\n",
    "\n",
    "#vectorised operation of series\n",
    "series = series * 2\n"
   ]
  },
  {
   "cell_type": "markdown",
   "metadata": {},
   "source": [
    "##### 5. Create a DataFrame named ‘purchases’ with two columns ‘apples’ and ‘oranges’.\n",
    "\n",
    "```\n",
    "The ‘apples’ column should have the values [3, 2, 0, 1] and the ‘oranges’ column should have the values [0, 3, 7, 2].\n",
    "```\n",
    "\n",
    "Note: DataFrames are two-dimensional size-mutable, potentially heterogeneous tabular data structures with labeled axes (rows and columns). They are one of the fundamental structures in pandas."
   ]
  },
  {
   "cell_type": "code",
   "execution_count": 6,
   "metadata": {},
   "outputs": [
    {
     "name": "stdout",
     "output_type": "stream",
     "text": [
      "   apples  oranges\n",
      "0       3        0\n",
      "1       2        3\n",
      "2       0        7\n",
      "3       1        2\n"
     ]
    }
   ],
   "source": [
    "import pandas as pd\n",
    "\n",
    "# Define the data\n",
    "data = {\n",
    "    'apples': [3, 2, 0, 1],\n",
    "    'oranges': [0, 3, 7, 2]\n",
    "}\n",
    "\n",
    "# Create the DataFrame\n",
    "purchases = pd.DataFrame(data)\n",
    "print (purchases)"
   ]
  },
  {
   "cell_type": "markdown",
   "metadata": {},
   "source": [
    "### Task 2 - Data Loading in Pandas"
   ]
  },
  {
   "cell_type": "markdown",
   "metadata": {},
   "source": [
    "##### 1. Write a line of code to open the ‘employees.csv’ data file into a pandas DataFrame.\n",
    "\n",
    "```\n",
    "The employees.csv file will need to be in the same directory(folder) as the notebook, or the filepath will need to be added.\n",
    "```\n",
    "\n",
    "Note: This function is useful for loading CSV data into a pandas DataFrame, which is a two-dimensional labeled data structure with columns of potentially different types. It’s one of the most common initial steps in data analysis."
   ]
  },
  {
   "cell_type": "code",
   "execution_count": 6,
   "metadata": {},
   "outputs": [],
   "source": [
    "import pandas as pd\n",
    "df = pd.read_csv('employees.csv')\n"
   ]
  },
  {
   "cell_type": "markdown",
   "metadata": {},
   "source": [
    "##### 2. Write a line of code to display the first 5 rows of the DataFrame.\n",
    "\n",
    "Note: The .head(n) function is useful for quickly previewing the first n rows of your DataFrame, which can help you get a sense of your data at a glance."
   ]
  },
  {
   "cell_type": "code",
   "execution_count": 12,
   "metadata": {},
   "outputs": [
    {
     "data": {
      "text/html": [
       "<div>\n",
       "<style scoped>\n",
       "    .dataframe tbody tr th:only-of-type {\n",
       "        vertical-align: middle;\n",
       "    }\n",
       "\n",
       "    .dataframe tbody tr th {\n",
       "        vertical-align: top;\n",
       "    }\n",
       "\n",
       "    .dataframe thead th {\n",
       "        text-align: right;\n",
       "    }\n",
       "</style>\n",
       "<table border=\"1\" class=\"dataframe\">\n",
       "  <thead>\n",
       "    <tr style=\"text-align: right;\">\n",
       "      <th></th>\n",
       "      <th>Name</th>\n",
       "      <th>Age</th>\n",
       "      <th>City</th>\n",
       "      <th>Salary</th>\n",
       "      <th>Gender</th>\n",
       "      <th>column1</th>\n",
       "      <th>State</th>\n",
       "      <th>Start Date</th>\n",
       "      <th>DateOfBirth</th>\n",
       "    </tr>\n",
       "  </thead>\n",
       "  <tbody>\n",
       "    <tr>\n",
       "      <th>0</th>\n",
       "      <td>kyle</td>\n",
       "      <td>59.0</td>\n",
       "      <td>indianapolis</td>\n",
       "      <td>151000.0</td>\n",
       "      <td>Other</td>\n",
       "      <td>Raymond</td>\n",
       "      <td>Indiana</td>\n",
       "      <td>1990-12-09</td>\n",
       "      <td>1964-10-15 14:21:44.568274</td>\n",
       "    </tr>\n",
       "    <tr>\n",
       "      <th>1</th>\n",
       "      <td>Luis</td>\n",
       "      <td>31.0</td>\n",
       "      <td>Los Angeles</td>\n",
       "      <td>58000.0</td>\n",
       "      <td>NaN</td>\n",
       "      <td>Andrade</td>\n",
       "      <td>CA</td>\n",
       "      <td>1992-02-24</td>\n",
       "      <td>1992-10-08 14:21:44.568274</td>\n",
       "    </tr>\n",
       "    <tr>\n",
       "      <th>2</th>\n",
       "      <td>katherine</td>\n",
       "      <td>46.0</td>\n",
       "      <td>Naperville</td>\n",
       "      <td>146000.0</td>\n",
       "      <td>female</td>\n",
       "      <td>Gutierrez</td>\n",
       "      <td>IL</td>\n",
       "      <td>21-12-2015</td>\n",
       "      <td>1977-10-12 14:21:44.568274</td>\n",
       "    </tr>\n",
       "    <tr>\n",
       "      <th>3</th>\n",
       "      <td>robert</td>\n",
       "      <td>25.0</td>\n",
       "      <td>pittsburgh</td>\n",
       "      <td>66000.0</td>\n",
       "      <td>Male</td>\n",
       "      <td>Yates</td>\n",
       "      <td>Pennsylvania</td>\n",
       "      <td>1993-01-25</td>\n",
       "      <td>1998-10-07 14:21:44.568274</td>\n",
       "    </tr>\n",
       "    <tr>\n",
       "      <th>4</th>\n",
       "      <td>austin</td>\n",
       "      <td>49.0</td>\n",
       "      <td>Naperville</td>\n",
       "      <td>96000.0</td>\n",
       "      <td>NaN</td>\n",
       "      <td>Turner</td>\n",
       "      <td>IL</td>\n",
       "      <td>20-09-1979</td>\n",
       "      <td>1974-10-13 14:21:44.568274</td>\n",
       "    </tr>\n",
       "  </tbody>\n",
       "</table>\n",
       "</div>"
      ],
      "text/plain": [
       "          Name   Age            City    Salary    Gender      column1  \\\n",
       "0        kyle   59.0   indianapolis   151000.0    Other      Raymond    \n",
       "1        Luis   31.0    Los Angeles    58000.0       NaN     Andrade    \n",
       "2   katherine   46.0     Naperville   146000.0   female    Gutierrez    \n",
       "3      robert   25.0     pittsburgh    66000.0     Male        Yates    \n",
       "4      austin   49.0     Naperville    96000.0       NaN      Turner    \n",
       "\n",
       "            State    Start Date                 DateOfBirth  \n",
       "0        Indiana     1990-12-09  1964-10-15 14:21:44.568274  \n",
       "1             CA     1992-02-24  1992-10-08 14:21:44.568274  \n",
       "2             IL    21-12-2015   1977-10-12 14:21:44.568274  \n",
       "3   Pennsylvania     1993-01-25  1998-10-07 14:21:44.568274  \n",
       "4             IL    20-09-1979   1974-10-13 14:21:44.568274  "
      ]
     },
     "execution_count": 12,
     "metadata": {},
     "output_type": "execute_result"
    }
   ],
   "source": [
    "import pandas as pd\n",
    "df = pd.read_csv('employees.csv')\n",
    "df.head(5)"
   ]
  },
  {
   "cell_type": "markdown",
   "metadata": {},
   "source": [
    "##### 3. Write a line of code to display the last 3 rows of the DataFrame.\n",
    "\n",
    "Note: The .tail(n) function is useful for quickly viewing the last n rows of your DataFrame. This can be particularly helpful when you want to see the most recent entries in a time-series dataset."
   ]
  },
  {
   "cell_type": "code",
   "execution_count": 8,
   "metadata": {},
   "outputs": [
    {
     "data": {
      "text/html": [
       "<div>\n",
       "<style scoped>\n",
       "    .dataframe tbody tr th:only-of-type {\n",
       "        vertical-align: middle;\n",
       "    }\n",
       "\n",
       "    .dataframe tbody tr th {\n",
       "        vertical-align: top;\n",
       "    }\n",
       "\n",
       "    .dataframe thead th {\n",
       "        text-align: right;\n",
       "    }\n",
       "</style>\n",
       "<table border=\"1\" class=\"dataframe\">\n",
       "  <thead>\n",
       "    <tr style=\"text-align: right;\">\n",
       "      <th></th>\n",
       "      <th>Name</th>\n",
       "      <th>Age</th>\n",
       "      <th>City</th>\n",
       "      <th>Salary</th>\n",
       "      <th>Gender</th>\n",
       "      <th>column1</th>\n",
       "      <th>State</th>\n",
       "      <th>Start Date</th>\n",
       "      <th>DateOfBirth</th>\n",
       "    </tr>\n",
       "  </thead>\n",
       "  <tbody>\n",
       "    <tr>\n",
       "      <th>157</th>\n",
       "      <td>Laura</td>\n",
       "      <td>28.0</td>\n",
       "      <td>Pittsburgh</td>\n",
       "      <td>53000.0</td>\n",
       "      <td>male</td>\n",
       "      <td>Jackson</td>\n",
       "      <td>Pennsylvania</td>\n",
       "      <td>1991-05-05</td>\n",
       "      <td>1995-10-08 14:21:44.568274</td>\n",
       "    </tr>\n",
       "    <tr>\n",
       "      <th>158</th>\n",
       "      <td>kiara</td>\n",
       "      <td>54.0</td>\n",
       "      <td>Tampa</td>\n",
       "      <td>33000.0</td>\n",
       "      <td>NaN</td>\n",
       "      <td>Hernandez</td>\n",
       "      <td>Florida</td>\n",
       "      <td>03-01-1985</td>\n",
       "      <td>1969-10-14 14:21:44.568274</td>\n",
       "    </tr>\n",
       "    <tr>\n",
       "      <th>159</th>\n",
       "      <td>Jennifer</td>\n",
       "      <td>38.0</td>\n",
       "      <td>san francisco</td>\n",
       "      <td>58000.0</td>\n",
       "      <td>NaN</td>\n",
       "      <td>Palmer</td>\n",
       "      <td>CA</td>\n",
       "      <td>2017-01-31</td>\n",
       "      <td>1985-10-10 14:21:44.568274</td>\n",
       "    </tr>\n",
       "  </tbody>\n",
       "</table>\n",
       "</div>"
      ],
      "text/plain": [
       "           Name   Age             City   Salary  Gender      column1  \\\n",
       "157      Laura   28.0      Pittsburgh   53000.0   male      Jackson    \n",
       "158      kiara   54.0           Tampa   33000.0     NaN   Hernandez    \n",
       "159   Jennifer   38.0   san francisco   58000.0     NaN      Palmer    \n",
       "\n",
       "              State    Start Date                 DateOfBirth  \n",
       "157   Pennsylvania     1991-05-05  1995-10-08 14:21:44.568274  \n",
       "158        Florida    03-01-1985   1969-10-14 14:21:44.568274  \n",
       "159             CA     2017-01-31  1985-10-10 14:21:44.568274  "
      ]
     },
     "execution_count": 8,
     "metadata": {},
     "output_type": "execute_result"
    }
   ],
   "source": [
    "import pandas as pd\n",
    "df = pd.read_csv('employees.csv')\n",
    "df.tail(3)"
   ]
  },
  {
   "cell_type": "markdown",
   "metadata": {},
   "source": [
    "##### 4. Write a line of code to randomly select 7 rows from the DataFrame.\n",
    "\n",
    "Note: The .sample(n) function is useful when you want to randomly select n rows from your DataFrame. This can be helpful for creating random samples from your data for tasks like bootstrapping or cross-validation."
   ]
  },
  {
   "cell_type": "code",
   "execution_count": 15,
   "metadata": {
    "scrolled": true
   },
   "outputs": [
    {
     "data": {
      "text/html": [
       "<div>\n",
       "<style scoped>\n",
       "    .dataframe tbody tr th:only-of-type {\n",
       "        vertical-align: middle;\n",
       "    }\n",
       "\n",
       "    .dataframe tbody tr th {\n",
       "        vertical-align: top;\n",
       "    }\n",
       "\n",
       "    .dataframe thead th {\n",
       "        text-align: right;\n",
       "    }\n",
       "</style>\n",
       "<table border=\"1\" class=\"dataframe\">\n",
       "  <thead>\n",
       "    <tr style=\"text-align: right;\">\n",
       "      <th></th>\n",
       "      <th>Name</th>\n",
       "      <th>Age</th>\n",
       "      <th>City</th>\n",
       "      <th>Salary</th>\n",
       "      <th>Gender</th>\n",
       "      <th>column1</th>\n",
       "      <th>State</th>\n",
       "      <th>Start Date</th>\n",
       "      <th>DateOfBirth</th>\n",
       "    </tr>\n",
       "  </thead>\n",
       "  <tbody>\n",
       "    <tr>\n",
       "      <th>80</th>\n",
       "      <td>Sarah</td>\n",
       "      <td>56.0</td>\n",
       "      <td>Philadelphia</td>\n",
       "      <td>131000.0</td>\n",
       "      <td>other</td>\n",
       "      <td>White</td>\n",
       "      <td>Pennsylvania</td>\n",
       "      <td>1991-05-05</td>\n",
       "      <td>1967-10-15 14:21:44.568274</td>\n",
       "    </tr>\n",
       "    <tr>\n",
       "      <th>37</th>\n",
       "      <td>kelly</td>\n",
       "      <td>22.0</td>\n",
       "      <td>phoenix</td>\n",
       "      <td>74000.0</td>\n",
       "      <td>other</td>\n",
       "      <td>Holden</td>\n",
       "      <td>AZ</td>\n",
       "      <td>2015-07-14</td>\n",
       "      <td>2001-10-06 14:21:44.568274</td>\n",
       "    </tr>\n",
       "    <tr>\n",
       "      <th>57</th>\n",
       "      <td>Glen</td>\n",
       "      <td>33.0</td>\n",
       "      <td>Houston</td>\n",
       "      <td>60000.0</td>\n",
       "      <td>male</td>\n",
       "      <td>Sullivan</td>\n",
       "      <td>TX</td>\n",
       "      <td>1992-05-23</td>\n",
       "      <td>1990-10-09 14:21:44.568274</td>\n",
       "    </tr>\n",
       "    <tr>\n",
       "      <th>61</th>\n",
       "      <td>david</td>\n",
       "      <td>35.0</td>\n",
       "      <td>dallas</td>\n",
       "      <td>43000.0</td>\n",
       "      <td>NaN</td>\n",
       "      <td>Bryant</td>\n",
       "      <td>TX</td>\n",
       "      <td>12-10-1978</td>\n",
       "      <td>1988-10-09 14:21:44.568274</td>\n",
       "    </tr>\n",
       "    <tr>\n",
       "      <th>99</th>\n",
       "      <td>Kevin</td>\n",
       "      <td>39.0</td>\n",
       "      <td>tucson</td>\n",
       "      <td>91000.0</td>\n",
       "      <td>male</td>\n",
       "      <td>Graham</td>\n",
       "      <td>AZ</td>\n",
       "      <td>2006-07-11</td>\n",
       "      <td>1984-10-10 14:21:44.568274</td>\n",
       "    </tr>\n",
       "    <tr>\n",
       "      <th>158</th>\n",
       "      <td>kiara</td>\n",
       "      <td>54.0</td>\n",
       "      <td>Tampa</td>\n",
       "      <td>33000.0</td>\n",
       "      <td>NaN</td>\n",
       "      <td>Hernandez</td>\n",
       "      <td>Florida</td>\n",
       "      <td>03-01-1985</td>\n",
       "      <td>1969-10-14 14:21:44.568274</td>\n",
       "    </tr>\n",
       "    <tr>\n",
       "      <th>87</th>\n",
       "      <td>Anne</td>\n",
       "      <td>58.0</td>\n",
       "      <td>New York</td>\n",
       "      <td>137000.0</td>\n",
       "      <td>female</td>\n",
       "      <td>Mckay</td>\n",
       "      <td>NY</td>\n",
       "      <td>2014-05-10</td>\n",
       "      <td>1965-10-15 14:21:44.568274</td>\n",
       "    </tr>\n",
       "  </tbody>\n",
       "</table>\n",
       "</div>"
      ],
      "text/plain": [
       "        Name   Age            City    Salary    Gender      column1  \\\n",
       "80    Sarah   56.0   Philadelphia   131000.0    other        White    \n",
       "37    kelly   22.0        phoenix    74000.0    other       Holden    \n",
       "57     Glen   33.0        Houston    60000.0     male     Sullivan    \n",
       "61    david   35.0         dallas    43000.0       NaN      Bryant    \n",
       "99    Kevin   39.0         tucson    91000.0     male       Graham    \n",
       "158   kiara   54.0          Tampa    33000.0       NaN   Hernandez    \n",
       "87     Anne   58.0       New York   137000.0   female        Mckay    \n",
       "\n",
       "              State    Start Date                 DateOfBirth  \n",
       "80    Pennsylvania     1991-05-05  1967-10-15 14:21:44.568274  \n",
       "37              AZ     2015-07-14  2001-10-06 14:21:44.568274  \n",
       "57              TX     1992-05-23  1990-10-09 14:21:44.568274  \n",
       "61              TX    12-10-1978   1988-10-09 14:21:44.568274  \n",
       "99              AZ     2006-07-11  1984-10-10 14:21:44.568274  \n",
       "158        Florida    03-01-1985   1969-10-14 14:21:44.568274  \n",
       "87              NY     2014-05-10  1965-10-15 14:21:44.568274  "
      ]
     },
     "execution_count": 15,
     "metadata": {},
     "output_type": "execute_result"
    }
   ],
   "source": [
    "import pandas as pd\n",
    "df = pd.read_csv('employees.csv')\n",
    "\n",
    "df.sample(7)"
   ]
  },
  {
   "cell_type": "code",
   "execution_count": 20,
   "metadata": {},
   "outputs": [
    {
     "name": "stdout",
     "output_type": "stream",
     "text": [
      "<class 'pandas.core.frame.DataFrame'>\n",
      "RangeIndex: 160 entries, 0 to 159\n",
      "Data columns (total 9 columns):\n",
      " #   Column       Non-Null Count  Dtype  \n",
      "---  ------       --------------  -----  \n",
      " 0   Name         160 non-null    object \n",
      " 1   Age          159 non-null    float64\n",
      " 2   City         156 non-null    object \n",
      " 3   Salary       159 non-null    float64\n",
      " 4   Gender       118 non-null    object \n",
      " 5   column1      158 non-null    object \n",
      " 6   State        156 non-null    object \n",
      " 7   Start Date   158 non-null    object \n",
      " 8   DateOfBirth  160 non-null    object \n",
      "dtypes: float64(2), object(7)\n",
      "memory usage: 11.4+ KB\n"
     ]
    }
   ],
   "source": [
    "df.info()"
   ]
  },
  {
   "cell_type": "markdown",
   "metadata": {},
   "source": [
    "##### 5. Write a line of code to save the DataFrame back to a new CSV file named ‘new_employees.csv’.\n",
    "\n",
    "```\n",
    "df.to_csv('new_employees.csv', index=False)\n",
    "```\n",
    "\n",
    "index=False tells the function not to write the row index to file.\n",
    "\n",
    "Note: The .to_csv() function is useful for saving your DataFrame back to a CSV file. This is often used after you’ve made some modifications to your data and want to save the results for later use."
   ]
  },
  {
   "cell_type": "code",
   "execution_count": 16,
   "metadata": {},
   "outputs": [
    {
     "data": {
      "text/plain": [
       "(160, 9)"
      ]
     },
     "execution_count": 16,
     "metadata": {},
     "output_type": "execute_result"
    }
   ],
   "source": [
    "df.shape"
   ]
  },
  {
   "cell_type": "code",
   "execution_count": 18,
   "metadata": {},
   "outputs": [
    {
     "data": {
      "text/plain": [
       "(113, 9)"
      ]
     },
     "execution_count": 18,
     "metadata": {},
     "output_type": "execute_result"
    }
   ],
   "source": [
    "newdf = df.dropna()\n",
    "newdf.shape"
   ]
  },
  {
   "cell_type": "markdown",
   "metadata": {},
   "source": [
    "##### 6. Write a line of code to open a CSV file named ‘separator.csv’ that uses a semicolon (;) as the separator.\n",
    "\n",
    "Note: In CSV files, a separator (also known as a delimiter) is used to distinguish between different fields.\n",
    "\n",
    "The most common separator is a comma, but other characters can be used as well, such as semicolons, tabs (\\t), spaces, etc.\n",
    "\n",
    "The choice of separator can depend on the data itself (for example, if the data contains commas within fields, a different separator might be used).\n",
    "\n",
    "When reading a CSV file with pandas, you can specify the separator using the sep parameter in the read_csv function.\n",
    "\n",
    "If not specified, pandas will assume the separator is a comma.\n",
    "\n",
    "It’s important to know what separator is used in your data file to correctly load it into a DataFrame."
   ]
  },
  {
   "cell_type": "code",
   "execution_count": 24,
   "metadata": {},
   "outputs": [
    {
     "data": {
      "text/html": [
       "<div>\n",
       "<style scoped>\n",
       "    .dataframe tbody tr th:only-of-type {\n",
       "        vertical-align: middle;\n",
       "    }\n",
       "\n",
       "    .dataframe tbody tr th {\n",
       "        vertical-align: top;\n",
       "    }\n",
       "\n",
       "    .dataframe thead th {\n",
       "        text-align: right;\n",
       "    }\n",
       "</style>\n",
       "<table border=\"1\" class=\"dataframe\">\n",
       "  <thead>\n",
       "    <tr style=\"text-align: right;\">\n",
       "      <th></th>\n",
       "      <th>Name</th>\n",
       "      <th>Age</th>\n",
       "      <th>City</th>\n",
       "      <th>Salary</th>\n",
       "      <th>Gender</th>\n",
       "      <th>column1</th>\n",
       "      <th>State</th>\n",
       "      <th>Start Date</th>\n",
       "      <th>DateOfBirth</th>\n",
       "    </tr>\n",
       "  </thead>\n",
       "  <tbody>\n",
       "    <tr>\n",
       "      <th>0</th>\n",
       "      <td>kyle</td>\n",
       "      <td>59.0</td>\n",
       "      <td>indianapolis</td>\n",
       "      <td>151000.0</td>\n",
       "      <td>Other</td>\n",
       "      <td>Raymond</td>\n",
       "      <td>Indiana</td>\n",
       "      <td>1990-12-09</td>\n",
       "      <td>1964-10-15</td>\n",
       "    </tr>\n",
       "    <tr>\n",
       "      <th>1</th>\n",
       "      <td>Luis</td>\n",
       "      <td>31.0</td>\n",
       "      <td>Los Angeles</td>\n",
       "      <td>58000.0</td>\n",
       "      <td>NaN</td>\n",
       "      <td>Andrade</td>\n",
       "      <td>CA</td>\n",
       "      <td>1992-02-24</td>\n",
       "      <td>1992-10-08</td>\n",
       "    </tr>\n",
       "    <tr>\n",
       "      <th>2</th>\n",
       "      <td>katherine</td>\n",
       "      <td>46.0</td>\n",
       "      <td>Naperville</td>\n",
       "      <td>146000.0</td>\n",
       "      <td>female</td>\n",
       "      <td>Gutierrez</td>\n",
       "      <td>IL</td>\n",
       "      <td>21-12-2015</td>\n",
       "      <td>1977-10-12</td>\n",
       "    </tr>\n",
       "    <tr>\n",
       "      <th>3</th>\n",
       "      <td>robert</td>\n",
       "      <td>25.0</td>\n",
       "      <td>pittsburgh</td>\n",
       "      <td>66000.0</td>\n",
       "      <td>Male</td>\n",
       "      <td>Yates</td>\n",
       "      <td>Pennsylvania</td>\n",
       "      <td>1993-01-25</td>\n",
       "      <td>1998-10-07</td>\n",
       "    </tr>\n",
       "    <tr>\n",
       "      <th>4</th>\n",
       "      <td>austin</td>\n",
       "      <td>49.0</td>\n",
       "      <td>Naperville</td>\n",
       "      <td>96000.0</td>\n",
       "      <td>NaN</td>\n",
       "      <td>Turner</td>\n",
       "      <td>IL</td>\n",
       "      <td>20-09-1979</td>\n",
       "      <td>1974-10-13</td>\n",
       "    </tr>\n",
       "    <tr>\n",
       "      <th>...</th>\n",
       "      <td>...</td>\n",
       "      <td>...</td>\n",
       "      <td>...</td>\n",
       "      <td>...</td>\n",
       "      <td>...</td>\n",
       "      <td>...</td>\n",
       "      <td>...</td>\n",
       "      <td>...</td>\n",
       "      <td>...</td>\n",
       "    </tr>\n",
       "    <tr>\n",
       "      <th>155</th>\n",
       "      <td>Jennifer</td>\n",
       "      <td>38.0</td>\n",
       "      <td>san francisco</td>\n",
       "      <td>58000.0</td>\n",
       "      <td>NaN</td>\n",
       "      <td>Palmer</td>\n",
       "      <td>CA</td>\n",
       "      <td>2017-01-31</td>\n",
       "      <td>1985-10-10</td>\n",
       "    </tr>\n",
       "    <tr>\n",
       "      <th>156</th>\n",
       "      <td>Sean</td>\n",
       "      <td>35.0</td>\n",
       "      <td>Los Angeles</td>\n",
       "      <td>70000.0</td>\n",
       "      <td>Male</td>\n",
       "      <td>Harris</td>\n",
       "      <td>CA</td>\n",
       "      <td>2011-07-06</td>\n",
       "      <td>1988-10-09</td>\n",
       "    </tr>\n",
       "    <tr>\n",
       "      <th>157</th>\n",
       "      <td>Laura</td>\n",
       "      <td>28.0</td>\n",
       "      <td>Pittsburgh</td>\n",
       "      <td>53000.0</td>\n",
       "      <td>male</td>\n",
       "      <td>Jackson</td>\n",
       "      <td>Pennsylvania</td>\n",
       "      <td>1991-05-05</td>\n",
       "      <td>1995-10-08</td>\n",
       "    </tr>\n",
       "    <tr>\n",
       "      <th>158</th>\n",
       "      <td>kiara</td>\n",
       "      <td>54.0</td>\n",
       "      <td>Tampa</td>\n",
       "      <td>33000.0</td>\n",
       "      <td>NaN</td>\n",
       "      <td>Hernandez</td>\n",
       "      <td>Florida</td>\n",
       "      <td>03-01-1985</td>\n",
       "      <td>1969-10-14</td>\n",
       "    </tr>\n",
       "    <tr>\n",
       "      <th>159</th>\n",
       "      <td>Jennifer</td>\n",
       "      <td>38.0</td>\n",
       "      <td>san francisco</td>\n",
       "      <td>58000.0</td>\n",
       "      <td>NaN</td>\n",
       "      <td>Palmer</td>\n",
       "      <td>CA</td>\n",
       "      <td>2017-01-31</td>\n",
       "      <td>1985-10-10</td>\n",
       "    </tr>\n",
       "  </tbody>\n",
       "</table>\n",
       "<p>160 rows × 9 columns</p>\n",
       "</div>"
      ],
      "text/plain": [
       "            Name   Age             City    Salary    Gender      column1  \\\n",
       "0          kyle   59.0    indianapolis   151000.0    Other      Raymond    \n",
       "1          Luis   31.0     Los Angeles    58000.0       NaN     Andrade    \n",
       "2     katherine   46.0      Naperville   146000.0   female    Gutierrez    \n",
       "3        robert   25.0      pittsburgh    66000.0     Male        Yates    \n",
       "4        austin   49.0      Naperville    96000.0       NaN      Turner    \n",
       "..           ...   ...              ...       ...       ...          ...   \n",
       "155    Jennifer   38.0   san francisco    58000.0       NaN      Palmer    \n",
       "156        Sean   35.0     Los Angeles    70000.0     Male       Harris    \n",
       "157       Laura   28.0      Pittsburgh    53000.0     male      Jackson    \n",
       "158       kiara   54.0           Tampa    33000.0       NaN   Hernandez    \n",
       "159    Jennifer   38.0   san francisco    58000.0       NaN      Palmer    \n",
       "\n",
       "              State    Start Date DateOfBirth  \n",
       "0          Indiana     1990-12-09  1964-10-15  \n",
       "1               CA     1992-02-24  1992-10-08  \n",
       "2               IL    21-12-2015   1977-10-12  \n",
       "3     Pennsylvania     1993-01-25  1998-10-07  \n",
       "4               IL    20-09-1979   1974-10-13  \n",
       "..              ...           ...         ...  \n",
       "155             CA     2017-01-31  1985-10-10  \n",
       "156             CA     2011-07-06  1988-10-09  \n",
       "157   Pennsylvania     1991-05-05  1995-10-08  \n",
       "158        Florida    03-01-1985   1969-10-14  \n",
       "159             CA     2017-01-31  1985-10-10  \n",
       "\n",
       "[160 rows x 9 columns]"
      ]
     },
     "execution_count": 24,
     "metadata": {},
     "output_type": "execute_result"
    }
   ],
   "source": [
    "import pandas as pd\n",
    "\n",
    "pd.read_csv('separator.csv', sep=';')\n"
   ]
  },
  {
   "cell_type": "markdown",
   "metadata": {},
   "source": [
    "##### 7. Write a line of code to get the shape of the DataFrame.\n",
    "\n",
    "Note: The .shape attribute is useful for quickly finding out how many rows and columns are in your DataFrame. It returns a tuple in the format (rows, columns)."
   ]
  },
  {
   "cell_type": "code",
   "execution_count": 25,
   "metadata": {},
   "outputs": [
    {
     "data": {
      "text/plain": [
       "(160, 9)"
      ]
     },
     "execution_count": 25,
     "metadata": {},
     "output_type": "execute_result"
    }
   ],
   "source": [
    "df.shape"
   ]
  },
  {
   "cell_type": "markdown",
   "metadata": {},
   "source": [
    "##### 8. Write a line of code to get a summary of the DataFrame’s numerical columns.\n",
    "\n",
    "Note: The .describe() function is useful for quickly generating descriptive statistics that summarize the central tendency, dispersion, and shape of a dataset’s distribution. It automatically excludes NaN values."
   ]
  },
  {
   "cell_type": "code",
   "execution_count": 26,
   "metadata": {},
   "outputs": [
    {
     "data": {
      "text/html": [
       "<div>\n",
       "<style scoped>\n",
       "    .dataframe tbody tr th:only-of-type {\n",
       "        vertical-align: middle;\n",
       "    }\n",
       "\n",
       "    .dataframe tbody tr th {\n",
       "        vertical-align: top;\n",
       "    }\n",
       "\n",
       "    .dataframe thead th {\n",
       "        text-align: right;\n",
       "    }\n",
       "</style>\n",
       "<table border=\"1\" class=\"dataframe\">\n",
       "  <thead>\n",
       "    <tr style=\"text-align: right;\">\n",
       "      <th></th>\n",
       "      <th>Age</th>\n",
       "      <th>Salary</th>\n",
       "    </tr>\n",
       "  </thead>\n",
       "  <tbody>\n",
       "    <tr>\n",
       "      <th>count</th>\n",
       "      <td>159.000000</td>\n",
       "      <td>159.000000</td>\n",
       "    </tr>\n",
       "    <tr>\n",
       "      <th>mean</th>\n",
       "      <td>40.773585</td>\n",
       "      <td>86503.144654</td>\n",
       "    </tr>\n",
       "    <tr>\n",
       "      <th>std</th>\n",
       "      <td>11.125250</td>\n",
       "      <td>40741.835280</td>\n",
       "    </tr>\n",
       "    <tr>\n",
       "      <th>min</th>\n",
       "      <td>20.000000</td>\n",
       "      <td>23000.000000</td>\n",
       "    </tr>\n",
       "    <tr>\n",
       "      <th>25%</th>\n",
       "      <td>32.000000</td>\n",
       "      <td>54000.000000</td>\n",
       "    </tr>\n",
       "    <tr>\n",
       "      <th>50%</th>\n",
       "      <td>41.000000</td>\n",
       "      <td>77000.000000</td>\n",
       "    </tr>\n",
       "    <tr>\n",
       "      <th>75%</th>\n",
       "      <td>50.000000</td>\n",
       "      <td>115000.000000</td>\n",
       "    </tr>\n",
       "    <tr>\n",
       "      <th>max</th>\n",
       "      <td>59.000000</td>\n",
       "      <td>191000.000000</td>\n",
       "    </tr>\n",
       "  </tbody>\n",
       "</table>\n",
       "</div>"
      ],
      "text/plain": [
       "              Age         Salary\n",
       "count  159.000000     159.000000\n",
       "mean    40.773585   86503.144654\n",
       "std     11.125250   40741.835280\n",
       "min     20.000000   23000.000000\n",
       "25%     32.000000   54000.000000\n",
       "50%     41.000000   77000.000000\n",
       "75%     50.000000  115000.000000\n",
       "max     59.000000  191000.000000"
      ]
     },
     "execution_count": 26,
     "metadata": {},
     "output_type": "execute_result"
    }
   ],
   "source": [
    "df.describe()"
   ]
  },
  {
   "cell_type": "markdown",
   "metadata": {},
   "source": [
    "##### 9. Write a line of code to get a concise summary of the DataFrame.\n",
    "\n",
    "Note: The .info() function is useful for getting a quick description of the data, especially the total number of non-null observations and the data type of each column."
   ]
  },
  {
   "cell_type": "code",
   "execution_count": 28,
   "metadata": {},
   "outputs": [
    {
     "name": "stdout",
     "output_type": "stream",
     "text": [
      "<class 'pandas.core.frame.DataFrame'>\n",
      "RangeIndex: 160 entries, 0 to 159\n",
      "Data columns (total 9 columns):\n",
      " #   Column       Non-Null Count  Dtype  \n",
      "---  ------       --------------  -----  \n",
      " 0   Name         160 non-null    object \n",
      " 1   Age          159 non-null    float64\n",
      " 2   City         156 non-null    object \n",
      " 3   Salary       159 non-null    float64\n",
      " 4   Gender       118 non-null    object \n",
      " 5   column1      158 non-null    object \n",
      " 6   State        156 non-null    object \n",
      " 7   Start Date   158 non-null    object \n",
      " 8   DateOfBirth  160 non-null    object \n",
      "dtypes: float64(2), object(7)\n",
      "memory usage: 11.4+ KB\n"
     ]
    }
   ],
   "source": [
    "df.info()"
   ]
  },
  {
   "cell_type": "markdown",
   "metadata": {},
   "source": [
    "##### 10. Write a line of code to get the number of unique values in each column.\n",
    "\n",
    "Note: The .nunique() function is useful for understanding the number of distinct values in each column. This can help identify columns with high cardinality."
   ]
  },
  {
   "cell_type": "code",
   "execution_count": 29,
   "metadata": {},
   "outputs": [
    {
     "data": {
      "text/plain": [
       "Name           129\n",
       "Age             40\n",
       "City            46\n",
       "Salary          91\n",
       "Gender           7\n",
       "column1        126\n",
       "State            9\n",
       "Start Date      30\n",
       "DateOfBirth     49\n",
       "dtype: int64"
      ]
     },
     "execution_count": 29,
     "metadata": {},
     "output_type": "execute_result"
    }
   ],
   "source": [
    "df.nunique()"
   ]
  },
  {
   "cell_type": "markdown",
   "metadata": {},
   "source": [
    "##### 11. Write a line of code to select all data from the ‘Age’ column.\n",
    "\n",
    "Note: Selecting a single column from your DataFrame is useful when you want to analyze or manipulate that specific column of data."
   ]
  },
  {
   "cell_type": "code",
   "execution_count": 6,
   "metadata": {},
   "outputs": [
    {
     "name": "stdout",
     "output_type": "stream",
     "text": [
      "0      59.0\n",
      "1      31.0\n",
      "2      46.0\n",
      "3      25.0\n",
      "4      49.0\n",
      "       ... \n",
      "155    38.0\n",
      "156    35.0\n",
      "157    28.0\n",
      "158    54.0\n",
      "159    38.0\n",
      "Name: Age, Length: 160, dtype: float64\n"
     ]
    }
   ],
   "source": [
    "import pandas as pd\n",
    "df = pd.read_csv('employees.csv')\n",
    "\n",
    "age_column = df['Age']\n",
    "print (age_column)\n"
   ]
  },
  {
   "cell_type": "markdown",
   "metadata": {},
   "source": [
    "##### 12.  Write a line of code to calculate the mean age.\n",
    "\n",
    "Note: The .mode() function is used to find the most frequently occurring value(s) in a series. This can be useful when analyzing categorical data or certain types of numerical data."
   ]
  },
  {
   "cell_type": "code",
   "execution_count": 13,
   "metadata": {},
   "outputs": [
    {
     "name": "stdout",
     "output_type": "stream",
     "text": [
      "The most common age that appears in employees is  0    54.0\n",
      "Name: Age, dtype: float64\n",
      " The Average age in employees is  40.77358490566038\n",
      "The the middle value of age that appears in employees is  41.0\n"
     ]
    }
   ],
   "source": [
    "df['Age'].mode() #Mode\n",
    "print('The most common age that appears in employees is ', df['Age'].mode())\n",
    "\n",
    "df['Age'].mean() #Mean\n",
    "print(\" The Average age in employees is \",df['Age'].mean())\n",
    "\n",
    "\n",
    "df['Age'].median() #Median\n",
    "print('The the middle value of age that appears in employees is ', df['Age'].median())"
   ]
  },
  {
   "cell_type": "markdown",
   "metadata": {},
   "source": [
    "##### 13. Write a line of code to find the median salary.\n",
    "\n",
    "Note: The .median() function is used to find the middle value in a series when it’s sorted in ascending order. This can be more informative than the mean for datasets with skewed distributions or outliers."
   ]
  },
  {
   "cell_type": "code",
   "execution_count": 15,
   "metadata": {},
   "outputs": [
    {
     "name": "stdout",
     "output_type": "stream",
     "text": [
      "The middle value salary for the employees is 77000.0\n"
     ]
    }
   ],
   "source": [
    "import pandas as pd\n",
    "df = pd.read_csv('employees.csv')\n",
    "\n",
    "df['Salary'].median()\n",
    "\n",
    "print (\"The middle value salary for the employees is\", df['Salary'].median() )"
   ]
  },
  {
   "cell_type": "markdown",
   "metadata": {},
   "source": [
    "### Task 3: Data Cleaning in Pandas"
   ]
  },
  {
   "cell_type": "markdown",
   "metadata": {},
   "source": [
    "##### 1. Write a line of code to drop the ‘column1’ from the DataFrame.\n",
    "\n",
    "Note: The .drop() function is useful for removing rows or columns by label names and corresponding axis, or by specifying directly index or column names."
   ]
  },
  {
   "cell_type": "code",
   "execution_count": 74,
   "metadata": {},
   "outputs": [
    {
     "data": {
      "text/html": [
       "<div>\n",
       "<style scoped>\n",
       "    .dataframe tbody tr th:only-of-type {\n",
       "        vertical-align: middle;\n",
       "    }\n",
       "\n",
       "    .dataframe tbody tr th {\n",
       "        vertical-align: top;\n",
       "    }\n",
       "\n",
       "    .dataframe thead th {\n",
       "        text-align: right;\n",
       "    }\n",
       "</style>\n",
       "<table border=\"1\" class=\"dataframe\">\n",
       "  <thead>\n",
       "    <tr style=\"text-align: right;\">\n",
       "      <th></th>\n",
       "      <th>Name</th>\n",
       "      <th>Age</th>\n",
       "      <th>City</th>\n",
       "      <th>Salary</th>\n",
       "      <th>Gender</th>\n",
       "      <th>State</th>\n",
       "      <th>Start Date</th>\n",
       "      <th>DateOfBirth</th>\n",
       "    </tr>\n",
       "  </thead>\n",
       "  <tbody>\n",
       "    <tr>\n",
       "      <th>0</th>\n",
       "      <td>kyle</td>\n",
       "      <td>59.0</td>\n",
       "      <td>indianapolis</td>\n",
       "      <td>151000.0</td>\n",
       "      <td>Other</td>\n",
       "      <td>Indiana</td>\n",
       "      <td>1990-12-09</td>\n",
       "      <td>1964-10-15 14:21:44.568274</td>\n",
       "    </tr>\n",
       "    <tr>\n",
       "      <th>1</th>\n",
       "      <td>Luis</td>\n",
       "      <td>31.0</td>\n",
       "      <td>Los Angeles</td>\n",
       "      <td>58000.0</td>\n",
       "      <td>NaN</td>\n",
       "      <td>CA</td>\n",
       "      <td>1992-02-24</td>\n",
       "      <td>1992-10-08 14:21:44.568274</td>\n",
       "    </tr>\n",
       "    <tr>\n",
       "      <th>2</th>\n",
       "      <td>katherine</td>\n",
       "      <td>46.0</td>\n",
       "      <td>Naperville</td>\n",
       "      <td>146000.0</td>\n",
       "      <td>female</td>\n",
       "      <td>IL</td>\n",
       "      <td>21-12-2015</td>\n",
       "      <td>1977-10-12 14:21:44.568274</td>\n",
       "    </tr>\n",
       "    <tr>\n",
       "      <th>3</th>\n",
       "      <td>robert</td>\n",
       "      <td>25.0</td>\n",
       "      <td>pittsburgh</td>\n",
       "      <td>66000.0</td>\n",
       "      <td>Male</td>\n",
       "      <td>Pennsylvania</td>\n",
       "      <td>1993-01-25</td>\n",
       "      <td>1998-10-07 14:21:44.568274</td>\n",
       "    </tr>\n",
       "    <tr>\n",
       "      <th>4</th>\n",
       "      <td>austin</td>\n",
       "      <td>49.0</td>\n",
       "      <td>Naperville</td>\n",
       "      <td>96000.0</td>\n",
       "      <td>NaN</td>\n",
       "      <td>IL</td>\n",
       "      <td>20-09-1979</td>\n",
       "      <td>1974-10-13 14:21:44.568274</td>\n",
       "    </tr>\n",
       "    <tr>\n",
       "      <th>...</th>\n",
       "      <td>...</td>\n",
       "      <td>...</td>\n",
       "      <td>...</td>\n",
       "      <td>...</td>\n",
       "      <td>...</td>\n",
       "      <td>...</td>\n",
       "      <td>...</td>\n",
       "      <td>...</td>\n",
       "    </tr>\n",
       "    <tr>\n",
       "      <th>155</th>\n",
       "      <td>Jennifer</td>\n",
       "      <td>38.0</td>\n",
       "      <td>san francisco</td>\n",
       "      <td>58000.0</td>\n",
       "      <td>NaN</td>\n",
       "      <td>CA</td>\n",
       "      <td>2017-01-31</td>\n",
       "      <td>1985-10-10 14:21:44.568274</td>\n",
       "    </tr>\n",
       "    <tr>\n",
       "      <th>156</th>\n",
       "      <td>Sean</td>\n",
       "      <td>35.0</td>\n",
       "      <td>Los Angeles</td>\n",
       "      <td>70000.0</td>\n",
       "      <td>Male</td>\n",
       "      <td>CA</td>\n",
       "      <td>2011-07-06</td>\n",
       "      <td>1988-10-09 14:21:44.568274</td>\n",
       "    </tr>\n",
       "    <tr>\n",
       "      <th>157</th>\n",
       "      <td>Laura</td>\n",
       "      <td>28.0</td>\n",
       "      <td>Pittsburgh</td>\n",
       "      <td>53000.0</td>\n",
       "      <td>male</td>\n",
       "      <td>Pennsylvania</td>\n",
       "      <td>1991-05-05</td>\n",
       "      <td>1995-10-08 14:21:44.568274</td>\n",
       "    </tr>\n",
       "    <tr>\n",
       "      <th>158</th>\n",
       "      <td>kiara</td>\n",
       "      <td>54.0</td>\n",
       "      <td>Tampa</td>\n",
       "      <td>33000.0</td>\n",
       "      <td>NaN</td>\n",
       "      <td>Florida</td>\n",
       "      <td>03-01-1985</td>\n",
       "      <td>1969-10-14 14:21:44.568274</td>\n",
       "    </tr>\n",
       "    <tr>\n",
       "      <th>159</th>\n",
       "      <td>Jennifer</td>\n",
       "      <td>38.0</td>\n",
       "      <td>san francisco</td>\n",
       "      <td>58000.0</td>\n",
       "      <td>NaN</td>\n",
       "      <td>CA</td>\n",
       "      <td>2017-01-31</td>\n",
       "      <td>1985-10-10 14:21:44.568274</td>\n",
       "    </tr>\n",
       "  </tbody>\n",
       "</table>\n",
       "<p>160 rows × 8 columns</p>\n",
       "</div>"
      ],
      "text/plain": [
       "            Name   Age             City    Salary    Gender           State  \\\n",
       "0          kyle   59.0    indianapolis   151000.0    Other         Indiana    \n",
       "1          Luis   31.0     Los Angeles    58000.0       NaN             CA    \n",
       "2     katherine   46.0      Naperville   146000.0   female              IL    \n",
       "3        robert   25.0      pittsburgh    66000.0     Male    Pennsylvania    \n",
       "4        austin   49.0      Naperville    96000.0       NaN             IL    \n",
       "..           ...   ...              ...       ...       ...             ...   \n",
       "155    Jennifer   38.0   san francisco    58000.0       NaN             CA    \n",
       "156        Sean   35.0     Los Angeles    70000.0     Male              CA    \n",
       "157       Laura   28.0      Pittsburgh    53000.0     male    Pennsylvania    \n",
       "158       kiara   54.0           Tampa    33000.0       NaN        Florida    \n",
       "159    Jennifer   38.0   san francisco    58000.0       NaN             CA    \n",
       "\n",
       "       Start Date                 DateOfBirth  \n",
       "0      1990-12-09  1964-10-15 14:21:44.568274  \n",
       "1      1992-02-24  1992-10-08 14:21:44.568274  \n",
       "2     21-12-2015   1977-10-12 14:21:44.568274  \n",
       "3      1993-01-25  1998-10-07 14:21:44.568274  \n",
       "4     20-09-1979   1974-10-13 14:21:44.568274  \n",
       "..            ...                         ...  \n",
       "155    2017-01-31  1985-10-10 14:21:44.568274  \n",
       "156    2011-07-06  1988-10-09 14:21:44.568274  \n",
       "157    1991-05-05  1995-10-08 14:21:44.568274  \n",
       "158   03-01-1985   1969-10-14 14:21:44.568274  \n",
       "159    2017-01-31  1985-10-10 14:21:44.568274  \n",
       "\n",
       "[160 rows x 8 columns]"
      ]
     },
     "execution_count": 74,
     "metadata": {},
     "output_type": "execute_result"
    }
   ],
   "source": [
    "\n",
    "import pandas as pd\n",
    "\n",
    "# Load CSV file into DataFrame\n",
    "df = pd.read_csv('employees.csv', sep=',')\n",
    "\n",
    "df.head()\n",
    "\n",
    "# Drop the 'column1' from the DataFrame\n",
    "df.drop(columns='column1')\n",
    "\n"
   ]
  },
  {
   "cell_type": "markdown",
   "metadata": {},
   "source": [
    "##### 2. Write a line of code to fill missing values in the ‘Age’ column with the average age.\n",
    "\n",
    "```\n",
    "This demonstrates the function of the mean function and utlises imputation, but does it make sense to create an Employees age from a Mean? In this situation it would be better to request a real age for an employee from the data source, or remove that emplyee if it is histroical data.\n",
    "```\n",
    "\n",
    "Note: The .fillna() function is used to fill NA/NaN values using the specified method which can be a constant or a DataFrame method like mean, median etc."
   ]
  },
  {
   "cell_type": "code",
   "execution_count": 17,
   "metadata": {},
   "outputs": [
    {
     "name": "stdout",
     "output_type": "stream",
     "text": [
      "\n",
      "DataFrame after filling missing values:\n",
      "          Name   Age            City    Salary    Gender      column1  \\\n",
      "0        kyle   59.0   indianapolis   151000.0    Other      Raymond    \n",
      "1        Luis   31.0    Los Angeles    58000.0       NaN     Andrade    \n",
      "2   katherine   46.0     Naperville   146000.0   female    Gutierrez    \n",
      "3      robert   25.0     pittsburgh    66000.0     Male        Yates    \n",
      "4      austin   49.0     Naperville    96000.0       NaN      Turner    \n",
      "\n",
      "            State    Start Date                 DateOfBirth  \n",
      "0        Indiana     1990-12-09  1964-10-15 14:21:44.568274  \n",
      "1             CA     1992-02-24  1992-10-08 14:21:44.568274  \n",
      "2             IL    21-12-2015   1977-10-12 14:21:44.568274  \n",
      "3   Pennsylvania     1993-01-25  1998-10-07 14:21:44.568274  \n",
      "4             IL    20-09-1979   1974-10-13 14:21:44.568274  \n",
      "The average age is  40.77358490566038\n"
     ]
    }
   ],
   "source": [
    "import pandas as pd\n",
    "df = pd.read_csv('employees.csv')\n",
    "\n",
    "#print(df.head())\n",
    "\n",
    "\n",
    "average_age = df['Age'].mean()\n",
    "\n",
    "# Fill missing values in the 'Age' column with the average age\n",
    "df['Age'].fillna(average_age, inplace=True)\n",
    "\n",
    "# Display the DataFrame after filling missing values\n",
    "print(\"\\nDataFrame after filling missing values:\")\n",
    "\n",
    "print(df.head())\n",
    "\n",
    "\n",
    "print (\"The average age is \", df['Age'].mean())"
   ]
  },
  {
   "cell_type": "markdown",
   "metadata": {},
   "source": [
    "##### 3. Write a line of code to drop rows with any missing values.\n",
    "\n",
    "Note: The .dropna() function is used to remove missing values. It’s useful when you want to discard any incomplete data."
   ]
  },
  {
   "cell_type": "code",
   "execution_count": 3,
   "metadata": {},
   "outputs": [
    {
     "name": "stdout",
     "output_type": "stream",
     "text": [
      "              Name   Age            City    Salary    Gender      column1  \\\n",
      "0            kyle   59.0   indianapolis   151000.0    Other      Raymond    \n",
      "2       katherine   46.0     Naperville   146000.0   female    Gutierrez    \n",
      "3          robert   25.0     pittsburgh    66000.0     Male        Yates    \n",
      "5     christopher   48.0        Buffalo    47000.0    other      Carroll    \n",
      "6        michelle   45.0     Fort Wayne    61000.0     Male     Anderson    \n",
      "..             ...   ...             ...       ...       ...          ...   \n",
      "151        brooke   46.0         dallas    51000.0     Male       Wilson    \n",
      "153       Felicia   47.0    san antonio   110000.0   Female       Willis    \n",
      "154         Kevin   39.0         tucson    91000.0     male       Graham    \n",
      "156          Sean   35.0    Los Angeles    70000.0     Male       Harris    \n",
      "157         Laura   28.0     Pittsburgh    53000.0     male      Jackson    \n",
      "\n",
      "              State    Start Date                 DateOfBirth  \n",
      "0          Indiana     1990-12-09  1964-10-15 14:21:44.568274  \n",
      "2               IL    21-12-2015   1977-10-12 14:21:44.568274  \n",
      "3     Pennsylvania     1993-01-25  1998-10-07 14:21:44.568274  \n",
      "5               NY     1990-12-09  1975-10-13 14:21:44.568274  \n",
      "6          Indiana     1991-05-05  1978-10-12 14:21:44.568274  \n",
      "..              ...           ...                         ...  \n",
      "151             TX     1999-05-26  1977-10-12 14:21:44.568274  \n",
      "153             TX     2013-04-23  1976-10-12 14:21:44.568274  \n",
      "154             AZ     2006-07-11  1984-10-10 14:21:44.568274  \n",
      "156             CA     2011-07-06  1988-10-09 14:21:44.568274  \n",
      "157   Pennsylvania     1991-05-05  1995-10-08 14:21:44.568274  \n",
      "\n",
      "[113 rows x 9 columns]\n"
     ]
    }
   ],
   "source": [
    "import pandas as pd\n",
    "df = pd.read_csv('employees.csv')\n",
    "\n",
    "#print(df.head())\n",
    "\n",
    "drop_Missing = df.dropna()\n",
    "\n",
    "print (drop_Missing)"
   ]
  },
  {
   "cell_type": "markdown",
   "metadata": {},
   "source": [
    "##### 4. Write a line of code to find duplicated rows.\n",
    "\n",
    "Note: The .duplicated() function returns a Boolean Series denoting duplicate rows. It’s useful when you want to identify any repeated data in your DataFrame."
   ]
  },
  {
   "cell_type": "code",
   "execution_count": 7,
   "metadata": {},
   "outputs": [
    {
     "data": {
      "text/plain": [
       "(160, 9)"
      ]
     },
     "execution_count": 7,
     "metadata": {},
     "output_type": "execute_result"
    }
   ],
   "source": [
    "import pandas as pd\n",
    "df = pd.read_csv('employees.csv')\n",
    "\n",
    "#print(df.head())\n",
    "\n",
    "find_duplicate = df.duplicated()\n",
    "\n",
    "df.shape"
   ]
  },
  {
   "cell_type": "markdown",
   "metadata": {},
   "source": [
    "##### 5. Write a line of code to drop duplicated rows.\n",
    "\n",
    "Note: The .drop_duplicates() function is used to remove duplicate rows. This is often necessary in data cleaning process to get rid of repeated information."
   ]
  },
  {
   "cell_type": "code",
   "execution_count": 9,
   "metadata": {},
   "outputs": [
    {
     "data": {
      "text/plain": [
       "(150, 9)"
      ]
     },
     "execution_count": 9,
     "metadata": {},
     "output_type": "execute_result"
    }
   ],
   "source": [
    "import pandas as pd\n",
    "df = pd.read_csv('employees.csv')\n",
    "\n",
    "#print(df.head())\n",
    "\n",
    "drop_duplicate = df.drop_duplicates()\n",
    "\n",
    "drop_duplicate.shape\n"
   ]
  },
  {
   "cell_type": "markdown",
   "metadata": {},
   "source": [
    "6. Write a line of code to replace ‘Illinois’ with ‘IL’ in the ‘State’ column.\n",
    "\n",
    "Note: The .str.replace() function is used to replace a specified phrase with another specified phrase. It’s useful when you want to standardize the data in your DataFrame."
   ]
  },
  {
   "cell_type": "code",
   "execution_count": 25,
   "metadata": {},
   "outputs": [
    {
     "name": "stdout",
     "output_type": "stream",
     "text": [
      "0.0\n"
     ]
    }
   ],
   "source": [
    "import pandas as pd\n",
    "df = pd.read_csv('employees.csv')\n",
    "\n",
    "df.head\n",
    "\n",
    "#state_column = df['State']\n",
    "count_illinois = df['State'].str.count('Illinois').sum()\n",
    "print (count_illinois)\n",
    "\n",
    "df['State'] = df['State'].str.replace('Illinois', 'IL')\n",
    "\n"
   ]
  },
  {
   "cell_type": "markdown",
   "metadata": {},
   "source": [
    "##### 7. Write a line of code to find all rows where ‘City’ contains ‘naperville’.\n",
    "\n",
    "Note: The .str.contains() function is used to test if pattern or regex is contained within a string of a Series or Index. It’s useful when you want to filter your data based on certain text criteria."
   ]
  },
  {
   "cell_type": "code",
   "execution_count": 43,
   "metadata": {},
   "outputs": [
    {
     "data": {
      "text/plain": [
       "2.0"
      ]
     },
     "execution_count": 43,
     "metadata": {},
     "output_type": "execute_result"
    }
   ],
   "source": [
    "import pandas as pd\n",
    "df = pd.read_csv('employees.csv')\n",
    "\n",
    "df.shape\n",
    "\n",
    "city_column = df['City']\n",
    "\n",
    "city_nap = city_column.str.contains('naperville')\n",
    "\n",
    "df['City'].str.count('naperville').sum()\n",
    "\n"
   ]
  },
  {
   "cell_type": "markdown",
   "metadata": {},
   "source": [
    "##### 8. Write a line of code to standardize the ‘City’ and ‘State’ columns in the DataFrame. For ‘City’, replace ‘naperville’ with ‘Naperville’, and for ‘State’, replace ‘Illinois’ with ‘IL’.\n",
    "\n",
    "Note: The .str.replace() function is used to replace a specified phrase with another specified phrase. It’s useful when you want to standardise the data in your DataFrame. In this case, we’re using it to ensure that city and state names follow a consistent format. This is an important step in data cleaning, especially when dealing with text data, as it ensures that the same entity is represented in the same way across the dataset."
   ]
  },
  {
   "cell_type": "code",
   "execution_count": 47,
   "metadata": {},
   "outputs": [
    {
     "data": {
      "text/plain": [
       "19.0"
      ]
     },
     "execution_count": 47,
     "metadata": {},
     "output_type": "execute_result"
    }
   ],
   "source": [
    "import pandas as pd\n",
    "df = pd.read_csv('employees.csv')\n",
    "\n",
    "\n",
    "df['City'] = df['City'].str.replace('naperville', 'Naperville')\n",
    "df['State'] = df['State'].str.replace('Illinois', 'IL')\n",
    "\n",
    "df['State'].str.count('IL').sum()\n"
   ]
  },
  {
   "cell_type": "markdown",
   "metadata": {},
   "source": [
    "##### 9. (OPTIONAL) Write a line of code to standardize the ‘City’ and ‘State’ columns in the DataFrame.\n",
    "\n",
    "Advanced Question. Will go into more in next lesson so do not worry if you cannot complete this one now.\n",
    "\n",
    "```\n",
    "Reload employees.csv in and output solution to a DataFrame named 'city_state_corrected_df'\n",
    "\n",
    "Any Unknown city or states should be filled with an 'Unknown' string.\n",
    "\n",
    "Run the first code block to create mapping dictionaries for States and City. You can choose to use these or manually type out each state and city and what they should be\n",
    "```"
   ]
  },
  {
   "cell_type": "code",
   "execution_count": 74,
   "metadata": {},
   "outputs": [
    {
     "data": {
      "text/html": [
       "<div>\n",
       "<style scoped>\n",
       "    .dataframe tbody tr th:only-of-type {\n",
       "        vertical-align: middle;\n",
       "    }\n",
       "\n",
       "    .dataframe tbody tr th {\n",
       "        vertical-align: top;\n",
       "    }\n",
       "\n",
       "    .dataframe thead th {\n",
       "        text-align: right;\n",
       "    }\n",
       "</style>\n",
       "<table border=\"1\" class=\"dataframe\">\n",
       "  <thead>\n",
       "    <tr style=\"text-align: right;\">\n",
       "      <th></th>\n",
       "      <th>Name</th>\n",
       "      <th>Age</th>\n",
       "      <th>City</th>\n",
       "      <th>Salary</th>\n",
       "      <th>Gender</th>\n",
       "      <th>column1</th>\n",
       "      <th>State</th>\n",
       "      <th>Start Date</th>\n",
       "      <th>DateOfBirth</th>\n",
       "    </tr>\n",
       "  </thead>\n",
       "  <tbody>\n",
       "    <tr>\n",
       "      <th>0</th>\n",
       "      <td>kyle</td>\n",
       "      <td>59.0</td>\n",
       "      <td>Indianapolis</td>\n",
       "      <td>151000.0</td>\n",
       "      <td>Other</td>\n",
       "      <td>Raymond</td>\n",
       "      <td>IN</td>\n",
       "      <td>1990-12-09</td>\n",
       "      <td>1964-10-15 14:21:44.568274</td>\n",
       "    </tr>\n",
       "    <tr>\n",
       "      <th>1</th>\n",
       "      <td>Luis</td>\n",
       "      <td>31.0</td>\n",
       "      <td>Los Angeles</td>\n",
       "      <td>58000.0</td>\n",
       "      <td>NaN</td>\n",
       "      <td>Andrade</td>\n",
       "      <td>CA</td>\n",
       "      <td>1992-02-24</td>\n",
       "      <td>1992-10-08 14:21:44.568274</td>\n",
       "    </tr>\n",
       "    <tr>\n",
       "      <th>2</th>\n",
       "      <td>katherine</td>\n",
       "      <td>46.0</td>\n",
       "      <td>Naperville</td>\n",
       "      <td>146000.0</td>\n",
       "      <td>female</td>\n",
       "      <td>Gutierrez</td>\n",
       "      <td>IL</td>\n",
       "      <td>21-12-2015</td>\n",
       "      <td>1977-10-12 14:21:44.568274</td>\n",
       "    </tr>\n",
       "    <tr>\n",
       "      <th>3</th>\n",
       "      <td>robert</td>\n",
       "      <td>25.0</td>\n",
       "      <td>Pittsburgh</td>\n",
       "      <td>66000.0</td>\n",
       "      <td>Male</td>\n",
       "      <td>Yates</td>\n",
       "      <td>PY</td>\n",
       "      <td>1993-01-25</td>\n",
       "      <td>1998-10-07 14:21:44.568274</td>\n",
       "    </tr>\n",
       "    <tr>\n",
       "      <th>4</th>\n",
       "      <td>austin</td>\n",
       "      <td>49.0</td>\n",
       "      <td>Naperville</td>\n",
       "      <td>96000.0</td>\n",
       "      <td>NaN</td>\n",
       "      <td>Turner</td>\n",
       "      <td>IL</td>\n",
       "      <td>20-09-1979</td>\n",
       "      <td>1974-10-13 14:21:44.568274</td>\n",
       "    </tr>\n",
       "  </tbody>\n",
       "</table>\n",
       "</div>"
      ],
      "text/plain": [
       "          Name   Age            City    Salary    Gender      column1 State  \\\n",
       "0        kyle   59.0   Indianapolis   151000.0    Other      Raymond    IN    \n",
       "1        Luis   31.0    Los Angeles    58000.0       NaN     Andrade    CA    \n",
       "2   katherine   46.0     Naperville   146000.0   female    Gutierrez    IL    \n",
       "3      robert   25.0     Pittsburgh    66000.0     Male        Yates    PY    \n",
       "4      austin   49.0     Naperville    96000.0       NaN      Turner    IL    \n",
       "\n",
       "     Start Date                 DateOfBirth  \n",
       "0    1990-12-09  1964-10-15 14:21:44.568274  \n",
       "1    1992-02-24  1992-10-08 14:21:44.568274  \n",
       "2   21-12-2015   1977-10-12 14:21:44.568274  \n",
       "3    1993-01-25  1998-10-07 14:21:44.568274  \n",
       "4   20-09-1979   1974-10-13 14:21:44.568274  "
      ]
     },
     "execution_count": 74,
     "metadata": {},
     "output_type": "execute_result"
    }
   ],
   "source": [
    "import pandas as pd\n",
    "df = pd.read_csv('employees.csv')\n",
    "\n",
    "#City \n",
    "df['City'] = df['City'].str.title() \n",
    "df['City'].fillna('Unknown', inplace=True)\n",
    "\n",
    "#State\n",
    "df['State'] = df['State'].str.replace('Indiana', 'IN')\n",
    "df['State'] = df['State'].str.replace('Pennsylvania', 'PY')\n",
    "df['State'] = df['State'].str.replace('Florida', 'FL')\n",
    "df['State'].fillna('Unknown', inplace=True)\n",
    "\n",
    "#df.tail(10)\n",
    "#df['State'].str.count('Unknown').sum()\n",
    "#df['City'].str.count('Unknown').sum()\n",
    "#print(df['City'].unique())\n",
    "\n",
    "city_state_corrected_df = df.copy()\n",
    "\n",
    "city_state_corrected_df.head()\n",
    "\n"
   ]
  },
  {
   "cell_type": "code",
   "execution_count": 75,
   "metadata": {},
   "outputs": [],
   "source": [
    "city_state_corrected_df['Name'] = df['Name'].str.title()\n"
   ]
  },
  {
   "cell_type": "markdown",
   "metadata": {},
   "source": [
    "##### 10. (OPTIONAL) Perform Data Cleaning on the Gender Column."
   ]
  },
  {
   "cell_type": "code",
   "execution_count": 85,
   "metadata": {},
   "outputs": [
    {
     "name": "stdout",
     "output_type": "stream",
     "text": [
      "[' Other ' 'Unknown' ' Female ' ' Male ' ' ']\n"
     ]
    }
   ],
   "source": [
    "city_state_corrected_df['Gender'] = df['Gender'].str.title()\n",
    "\n",
    "city_state_corrected_df['Gender'].fillna('Unknown', inplace=True)\n",
    "\n",
    "\n",
    "print(city_state_corrected_df['Gender'].unique())\n"
   ]
  },
  {
   "cell_type": "markdown",
   "metadata": {},
   "source": [
    "### Task 4: Data Manipulation"
   ]
  },
  {
   "cell_type": "markdown",
   "metadata": {},
   "source": [
    "##### 1. Write a line of code to apply a function that adds 10 to each value in the ‘Age’ column\n",
    "\n",
    "```\n",
    "A lambda function would make the code more readable here.\n",
    "```\n",
    "\n",
    "Note: The .apply() function is useful for applying a function along an axis of the DataFrame. It can be used with a lambda function, as in this case, to perform operations on each element in a column."
   ]
  },
  {
   "cell_type": "code",
   "execution_count": 87,
   "metadata": {},
   "outputs": [
    {
     "data": {
      "text/html": [
       "<div>\n",
       "<style scoped>\n",
       "    .dataframe tbody tr th:only-of-type {\n",
       "        vertical-align: middle;\n",
       "    }\n",
       "\n",
       "    .dataframe tbody tr th {\n",
       "        vertical-align: top;\n",
       "    }\n",
       "\n",
       "    .dataframe thead th {\n",
       "        text-align: right;\n",
       "    }\n",
       "</style>\n",
       "<table border=\"1\" class=\"dataframe\">\n",
       "  <thead>\n",
       "    <tr style=\"text-align: right;\">\n",
       "      <th></th>\n",
       "      <th>Name</th>\n",
       "      <th>Age</th>\n",
       "      <th>City</th>\n",
       "      <th>Salary</th>\n",
       "      <th>Gender</th>\n",
       "      <th>column1</th>\n",
       "      <th>State</th>\n",
       "      <th>Start Date</th>\n",
       "      <th>DateOfBirth</th>\n",
       "    </tr>\n",
       "  </thead>\n",
       "  <tbody>\n",
       "    <tr>\n",
       "      <th>0</th>\n",
       "      <td>Kyle</td>\n",
       "      <td>69.0</td>\n",
       "      <td>Indianapolis</td>\n",
       "      <td>151000.0</td>\n",
       "      <td>Other</td>\n",
       "      <td>Raymond</td>\n",
       "      <td>IN</td>\n",
       "      <td>1990-12-09</td>\n",
       "      <td>1964-10-15 14:21:44.568274</td>\n",
       "    </tr>\n",
       "    <tr>\n",
       "      <th>1</th>\n",
       "      <td>Luis</td>\n",
       "      <td>41.0</td>\n",
       "      <td>Los Angeles</td>\n",
       "      <td>58000.0</td>\n",
       "      <td>Unknown</td>\n",
       "      <td>Andrade</td>\n",
       "      <td>CA</td>\n",
       "      <td>1992-02-24</td>\n",
       "      <td>1992-10-08 14:21:44.568274</td>\n",
       "    </tr>\n",
       "    <tr>\n",
       "      <th>2</th>\n",
       "      <td>Katherine</td>\n",
       "      <td>56.0</td>\n",
       "      <td>Naperville</td>\n",
       "      <td>146000.0</td>\n",
       "      <td>Female</td>\n",
       "      <td>Gutierrez</td>\n",
       "      <td>IL</td>\n",
       "      <td>21-12-2015</td>\n",
       "      <td>1977-10-12 14:21:44.568274</td>\n",
       "    </tr>\n",
       "    <tr>\n",
       "      <th>3</th>\n",
       "      <td>Robert</td>\n",
       "      <td>35.0</td>\n",
       "      <td>Pittsburgh</td>\n",
       "      <td>66000.0</td>\n",
       "      <td>Male</td>\n",
       "      <td>Yates</td>\n",
       "      <td>PY</td>\n",
       "      <td>1993-01-25</td>\n",
       "      <td>1998-10-07 14:21:44.568274</td>\n",
       "    </tr>\n",
       "    <tr>\n",
       "      <th>4</th>\n",
       "      <td>Austin</td>\n",
       "      <td>59.0</td>\n",
       "      <td>Naperville</td>\n",
       "      <td>96000.0</td>\n",
       "      <td>Unknown</td>\n",
       "      <td>Turner</td>\n",
       "      <td>IL</td>\n",
       "      <td>20-09-1979</td>\n",
       "      <td>1974-10-13 14:21:44.568274</td>\n",
       "    </tr>\n",
       "  </tbody>\n",
       "</table>\n",
       "</div>"
      ],
      "text/plain": [
       "          Name   Age            City    Salary    Gender      column1 State  \\\n",
       "0        Kyle   69.0   Indianapolis   151000.0    Other      Raymond    IN    \n",
       "1        Luis   41.0    Los Angeles    58000.0   Unknown     Andrade    CA    \n",
       "2   Katherine   56.0     Naperville   146000.0   Female    Gutierrez    IL    \n",
       "3      Robert   35.0     Pittsburgh    66000.0     Male        Yates    PY    \n",
       "4      Austin   59.0     Naperville    96000.0   Unknown      Turner    IL    \n",
       "\n",
       "     Start Date                 DateOfBirth  \n",
       "0    1990-12-09  1964-10-15 14:21:44.568274  \n",
       "1    1992-02-24  1992-10-08 14:21:44.568274  \n",
       "2   21-12-2015   1977-10-12 14:21:44.568274  \n",
       "3    1993-01-25  1998-10-07 14:21:44.568274  \n",
       "4   20-09-1979   1974-10-13 14:21:44.568274  "
      ]
     },
     "execution_count": 87,
     "metadata": {},
     "output_type": "execute_result"
    }
   ],
   "source": [
    "import pandas as pd\n",
    "\n",
    "# Load CSV file into DataFrame\n",
    "df = city_state_corrected_df\n",
    "\n",
    "# Apply a function using a lambda function to add 10 to each value in the 'Age' column\n",
    "df['Age'] = df['Age'].apply(lambda x: x + 10)\n",
    "\n",
    "# Display the DataFrame after applying the function\n",
    "df.head()\n"
   ]
  },
  {
   "cell_type": "markdown",
   "metadata": {},
   "source": [
    "##### 2. Write a line of code to apply a function that converts all names in the ‘Name’ column to uppercase.\n",
    "\n",
    "Note: The .apply() function can be used with string methods to perform operations on each string in a column, e.g. .upper()."
   ]
  },
  {
   "cell_type": "code",
   "execution_count": 92,
   "metadata": {},
   "outputs": [
    {
     "data": {
      "text/html": [
       "<div>\n",
       "<style scoped>\n",
       "    .dataframe tbody tr th:only-of-type {\n",
       "        vertical-align: middle;\n",
       "    }\n",
       "\n",
       "    .dataframe tbody tr th {\n",
       "        vertical-align: top;\n",
       "    }\n",
       "\n",
       "    .dataframe thead th {\n",
       "        text-align: right;\n",
       "    }\n",
       "</style>\n",
       "<table border=\"1\" class=\"dataframe\">\n",
       "  <thead>\n",
       "    <tr style=\"text-align: right;\">\n",
       "      <th></th>\n",
       "      <th>Name</th>\n",
       "      <th>Age</th>\n",
       "      <th>City</th>\n",
       "      <th>Salary</th>\n",
       "      <th>Gender</th>\n",
       "      <th>column1</th>\n",
       "      <th>State</th>\n",
       "      <th>Start Date</th>\n",
       "      <th>DateOfBirth</th>\n",
       "    </tr>\n",
       "  </thead>\n",
       "  <tbody>\n",
       "    <tr>\n",
       "      <th>0</th>\n",
       "      <td>KYLE</td>\n",
       "      <td>69.0</td>\n",
       "      <td>Indianapolis</td>\n",
       "      <td>151000.0</td>\n",
       "      <td>Other</td>\n",
       "      <td>Raymond</td>\n",
       "      <td>IN</td>\n",
       "      <td>1990-12-09</td>\n",
       "      <td>1964-10-15 14:21:44.568274</td>\n",
       "    </tr>\n",
       "    <tr>\n",
       "      <th>1</th>\n",
       "      <td>LUIS</td>\n",
       "      <td>41.0</td>\n",
       "      <td>Los Angeles</td>\n",
       "      <td>58000.0</td>\n",
       "      <td>Unknown</td>\n",
       "      <td>Andrade</td>\n",
       "      <td>CA</td>\n",
       "      <td>1992-02-24</td>\n",
       "      <td>1992-10-08 14:21:44.568274</td>\n",
       "    </tr>\n",
       "    <tr>\n",
       "      <th>2</th>\n",
       "      <td>KATHERINE</td>\n",
       "      <td>56.0</td>\n",
       "      <td>Naperville</td>\n",
       "      <td>146000.0</td>\n",
       "      <td>Female</td>\n",
       "      <td>Gutierrez</td>\n",
       "      <td>IL</td>\n",
       "      <td>21-12-2015</td>\n",
       "      <td>1977-10-12 14:21:44.568274</td>\n",
       "    </tr>\n",
       "    <tr>\n",
       "      <th>3</th>\n",
       "      <td>ROBERT</td>\n",
       "      <td>35.0</td>\n",
       "      <td>Pittsburgh</td>\n",
       "      <td>66000.0</td>\n",
       "      <td>Male</td>\n",
       "      <td>Yates</td>\n",
       "      <td>PY</td>\n",
       "      <td>1993-01-25</td>\n",
       "      <td>1998-10-07 14:21:44.568274</td>\n",
       "    </tr>\n",
       "    <tr>\n",
       "      <th>4</th>\n",
       "      <td>AUSTIN</td>\n",
       "      <td>59.0</td>\n",
       "      <td>Naperville</td>\n",
       "      <td>96000.0</td>\n",
       "      <td>Unknown</td>\n",
       "      <td>Turner</td>\n",
       "      <td>IL</td>\n",
       "      <td>20-09-1979</td>\n",
       "      <td>1974-10-13 14:21:44.568274</td>\n",
       "    </tr>\n",
       "  </tbody>\n",
       "</table>\n",
       "</div>"
      ],
      "text/plain": [
       "          Name   Age            City    Salary    Gender      column1 State  \\\n",
       "0        KYLE   69.0   Indianapolis   151000.0    Other      Raymond    IN    \n",
       "1        LUIS   41.0    Los Angeles    58000.0   Unknown     Andrade    CA    \n",
       "2   KATHERINE   56.0     Naperville   146000.0   Female    Gutierrez    IL    \n",
       "3      ROBERT   35.0     Pittsburgh    66000.0     Male        Yates    PY    \n",
       "4      AUSTIN   59.0     Naperville    96000.0   Unknown      Turner    IL    \n",
       "\n",
       "     Start Date                 DateOfBirth  \n",
       "0    1990-12-09  1964-10-15 14:21:44.568274  \n",
       "1    1992-02-24  1992-10-08 14:21:44.568274  \n",
       "2   21-12-2015   1977-10-12 14:21:44.568274  \n",
       "3    1993-01-25  1998-10-07 14:21:44.568274  \n",
       "4   20-09-1979   1974-10-13 14:21:44.568274  "
      ]
     },
     "execution_count": 92,
     "metadata": {},
     "output_type": "execute_result"
    }
   ],
   "source": [
    "df['Name'] = df['Name'].str.upper()\n",
    "df.head()"
   ]
  },
  {
   "cell_type": "markdown",
   "metadata": {},
   "source": [
    "##### 3. Write a line of code to concatenate df and df2 along rows.\n",
    "\n",
    "```\n",
    "# Creating a second DataFrame\n",
    "data2 = {\n",
    "    'Name': ['John', 'Jane'],\n",
    "    'Age': [30, 25],\n",
    "    'City': ['New York', 'Los Angeles'],\n",
    "    'Salary': [70000, 80000],\n",
    "    'Gender': ['Male', 'Female'],\n",
    "    'column1': ['Doe', 'Doe'],\n",
    "    'State': ['NY', 'CA'],\n",
    "    'Start Date': ['2010-01-01', '2012-07-01'],\n",
    "    'DateOfBirth': ['1990-01-01', '1997-07-01']\n",
    "}\n",
    "df2 = pd.DataFrame(data2)\n",
    "```\n",
    "\n",
    "Note: The pd.concat() function is useful for concatenating two or more pandas objects along a particular axis. By default, it concatenates along rows (i.e., axis=0). This is often used when you want to append rows from one DataFrame to another."
   ]
  },
  {
   "cell_type": "code",
   "execution_count": 95,
   "metadata": {},
   "outputs": [
    {
     "data": {
      "text/html": [
       "<div>\n",
       "<style scoped>\n",
       "    .dataframe tbody tr th:only-of-type {\n",
       "        vertical-align: middle;\n",
       "    }\n",
       "\n",
       "    .dataframe tbody tr th {\n",
       "        vertical-align: top;\n",
       "    }\n",
       "\n",
       "    .dataframe thead th {\n",
       "        text-align: right;\n",
       "    }\n",
       "</style>\n",
       "<table border=\"1\" class=\"dataframe\">\n",
       "  <thead>\n",
       "    <tr style=\"text-align: right;\">\n",
       "      <th></th>\n",
       "      <th>Name</th>\n",
       "      <th>Age</th>\n",
       "      <th>City</th>\n",
       "      <th>Salary</th>\n",
       "      <th>Gender</th>\n",
       "      <th>column1</th>\n",
       "      <th>State</th>\n",
       "      <th>Start Date</th>\n",
       "      <th>DateOfBirth</th>\n",
       "    </tr>\n",
       "  </thead>\n",
       "  <tbody>\n",
       "    <tr>\n",
       "      <th>157</th>\n",
       "      <td>LAURA</td>\n",
       "      <td>38.0</td>\n",
       "      <td>Pittsburgh</td>\n",
       "      <td>53000.0</td>\n",
       "      <td>Male</td>\n",
       "      <td>Jackson</td>\n",
       "      <td>PY</td>\n",
       "      <td>1991-05-05</td>\n",
       "      <td>1995-10-08 14:21:44.568274</td>\n",
       "    </tr>\n",
       "    <tr>\n",
       "      <th>158</th>\n",
       "      <td>KIARA</td>\n",
       "      <td>64.0</td>\n",
       "      <td>Tampa</td>\n",
       "      <td>33000.0</td>\n",
       "      <td>Unknown</td>\n",
       "      <td>Hernandez</td>\n",
       "      <td>FL</td>\n",
       "      <td>03-01-1985</td>\n",
       "      <td>1969-10-14 14:21:44.568274</td>\n",
       "    </tr>\n",
       "    <tr>\n",
       "      <th>159</th>\n",
       "      <td>JENNIFER</td>\n",
       "      <td>48.0</td>\n",
       "      <td>San Francisco</td>\n",
       "      <td>58000.0</td>\n",
       "      <td>Unknown</td>\n",
       "      <td>Palmer</td>\n",
       "      <td>CA</td>\n",
       "      <td>2017-01-31</td>\n",
       "      <td>1985-10-10 14:21:44.568274</td>\n",
       "    </tr>\n",
       "    <tr>\n",
       "      <th>0</th>\n",
       "      <td>John</td>\n",
       "      <td>30.0</td>\n",
       "      <td>New York</td>\n",
       "      <td>70000.0</td>\n",
       "      <td>Male</td>\n",
       "      <td>Doe</td>\n",
       "      <td>NY</td>\n",
       "      <td>2010-01-01</td>\n",
       "      <td>1990-01-01</td>\n",
       "    </tr>\n",
       "    <tr>\n",
       "      <th>1</th>\n",
       "      <td>Jane</td>\n",
       "      <td>25.0</td>\n",
       "      <td>Los Angeles</td>\n",
       "      <td>80000.0</td>\n",
       "      <td>Female</td>\n",
       "      <td>Doe</td>\n",
       "      <td>CA</td>\n",
       "      <td>2012-07-01</td>\n",
       "      <td>1997-07-01</td>\n",
       "    </tr>\n",
       "  </tbody>\n",
       "</table>\n",
       "</div>"
      ],
      "text/plain": [
       "           Name   Age             City   Salary   Gender      column1 State  \\\n",
       "157      LAURA   38.0      Pittsburgh   53000.0    Male      Jackson    PY    \n",
       "158      KIARA   64.0           Tampa   33000.0  Unknown   Hernandez    FL    \n",
       "159   JENNIFER   48.0   San Francisco   58000.0  Unknown      Palmer    CA    \n",
       "0          John  30.0         New York  70000.0     Male          Doe    NY   \n",
       "1          Jane  25.0      Los Angeles  80000.0   Female          Doe    CA   \n",
       "\n",
       "       Start Date                 DateOfBirth  \n",
       "157    1991-05-05  1995-10-08 14:21:44.568274  \n",
       "158   03-01-1985   1969-10-14 14:21:44.568274  \n",
       "159    2017-01-31  1985-10-10 14:21:44.568274  \n",
       "0      2010-01-01                  1990-01-01  \n",
       "1      2012-07-01                  1997-07-01  "
      ]
     },
     "execution_count": 95,
     "metadata": {},
     "output_type": "execute_result"
    }
   ],
   "source": [
    "# Creating a second DataFrame\n",
    "data2 = {\n",
    "    'Name': ['John', 'Jane'],\n",
    "    'Age': [30, 25],\n",
    "    'City': ['New York', 'Los Angeles'],\n",
    "    'Salary': [70000, 80000],\n",
    "    'Gender': ['Male', 'Female'],\n",
    "    'column1': ['Doe', 'Doe'],\n",
    "    'State': ['NY', 'CA'],\n",
    "    'Start Date': ['2010-01-01', '2012-07-01'],\n",
    "    'DateOfBirth': ['1990-01-01', '1997-07-01']}\n",
    "\n",
    "df2 = pd.DataFrame(data2)\n",
    "df2.head()\n",
    "\n",
    "concatenated_df = pd.concat([df, df2], axis=0)\n",
    "\n",
    "concatenated_df.tail()\n"
   ]
  },
  {
   "cell_type": "code",
   "execution_count": 98,
   "metadata": {},
   "outputs": [],
   "source": []
  },
  {
   "cell_type": "markdown",
   "metadata": {},
   "source": [
    "##### 4. Write a line of code to concatenate df and df2 along columns.\n",
    "\n",
    "Note: By specifying axis=1 in the pd.concat() function, you can concatenate DataFrames along columns instead of rows. This is useful when you want to add new columns to a DataFrame from another DataFrame with the same index."
   ]
  },
  {
   "cell_type": "code",
   "execution_count": null,
   "metadata": {},
   "outputs": [],
   "source": [
    "#concatenated_df = pd.concat([df, df2], axis=1)\n",
    "#concatenated_df.head()"
   ]
  },
  {
   "cell_type": "markdown",
   "metadata": {},
   "source": [
    "##### 5. Write a line of code to concatenate df and df2, and ignore the original index.\n",
    "\n",
    "Note: The ignore_index=True parameter in the pd.concat() function is useful when you want to ignore the original index and reset it in the resulting DataFrame. This is often used when the index does not contain any meaningful information."
   ]
  },
  {
   "cell_type": "code",
   "execution_count": 100,
   "metadata": {},
   "outputs": [
    {
     "data": {
      "text/html": [
       "<div>\n",
       "<style scoped>\n",
       "    .dataframe tbody tr th:only-of-type {\n",
       "        vertical-align: middle;\n",
       "    }\n",
       "\n",
       "    .dataframe tbody tr th {\n",
       "        vertical-align: top;\n",
       "    }\n",
       "\n",
       "    .dataframe thead th {\n",
       "        text-align: right;\n",
       "    }\n",
       "</style>\n",
       "<table border=\"1\" class=\"dataframe\">\n",
       "  <thead>\n",
       "    <tr style=\"text-align: right;\">\n",
       "      <th></th>\n",
       "      <th>Name</th>\n",
       "      <th>Age</th>\n",
       "      <th>City</th>\n",
       "      <th>Salary</th>\n",
       "      <th>Gender</th>\n",
       "      <th>column1</th>\n",
       "      <th>State</th>\n",
       "      <th>Start Date</th>\n",
       "      <th>DateOfBirth</th>\n",
       "    </tr>\n",
       "  </thead>\n",
       "  <tbody>\n",
       "    <tr>\n",
       "      <th>157</th>\n",
       "      <td>LAURA</td>\n",
       "      <td>38.0</td>\n",
       "      <td>Pittsburgh</td>\n",
       "      <td>53000.0</td>\n",
       "      <td>Male</td>\n",
       "      <td>Jackson</td>\n",
       "      <td>PY</td>\n",
       "      <td>1991-05-05</td>\n",
       "      <td>1995-10-08 14:21:44.568274</td>\n",
       "    </tr>\n",
       "    <tr>\n",
       "      <th>158</th>\n",
       "      <td>KIARA</td>\n",
       "      <td>64.0</td>\n",
       "      <td>Tampa</td>\n",
       "      <td>33000.0</td>\n",
       "      <td>Unknown</td>\n",
       "      <td>Hernandez</td>\n",
       "      <td>FL</td>\n",
       "      <td>03-01-1985</td>\n",
       "      <td>1969-10-14 14:21:44.568274</td>\n",
       "    </tr>\n",
       "    <tr>\n",
       "      <th>159</th>\n",
       "      <td>JENNIFER</td>\n",
       "      <td>48.0</td>\n",
       "      <td>San Francisco</td>\n",
       "      <td>58000.0</td>\n",
       "      <td>Unknown</td>\n",
       "      <td>Palmer</td>\n",
       "      <td>CA</td>\n",
       "      <td>2017-01-31</td>\n",
       "      <td>1985-10-10 14:21:44.568274</td>\n",
       "    </tr>\n",
       "    <tr>\n",
       "      <th>0</th>\n",
       "      <td>John</td>\n",
       "      <td>30.0</td>\n",
       "      <td>New York</td>\n",
       "      <td>70000.0</td>\n",
       "      <td>Male</td>\n",
       "      <td>Doe</td>\n",
       "      <td>NY</td>\n",
       "      <td>2010-01-01</td>\n",
       "      <td>1990-01-01</td>\n",
       "    </tr>\n",
       "    <tr>\n",
       "      <th>1</th>\n",
       "      <td>Jane</td>\n",
       "      <td>25.0</td>\n",
       "      <td>Los Angeles</td>\n",
       "      <td>80000.0</td>\n",
       "      <td>Female</td>\n",
       "      <td>Doe</td>\n",
       "      <td>CA</td>\n",
       "      <td>2012-07-01</td>\n",
       "      <td>1997-07-01</td>\n",
       "    </tr>\n",
       "  </tbody>\n",
       "</table>\n",
       "</div>"
      ],
      "text/plain": [
       "           Name   Age             City   Salary   Gender      column1 State  \\\n",
       "157      LAURA   38.0      Pittsburgh   53000.0    Male      Jackson    PY    \n",
       "158      KIARA   64.0           Tampa   33000.0  Unknown   Hernandez    FL    \n",
       "159   JENNIFER   48.0   San Francisco   58000.0  Unknown      Palmer    CA    \n",
       "0          John  30.0         New York  70000.0     Male          Doe    NY   \n",
       "1          Jane  25.0      Los Angeles  80000.0   Female          Doe    CA   \n",
       "\n",
       "       Start Date                 DateOfBirth  \n",
       "157    1991-05-05  1995-10-08 14:21:44.568274  \n",
       "158   03-01-1985   1969-10-14 14:21:44.568274  \n",
       "159    2017-01-31  1985-10-10 14:21:44.568274  \n",
       "0      2010-01-01                  1990-01-01  \n",
       "1      2012-07-01                  1997-07-01  "
      ]
     },
     "execution_count": 100,
     "metadata": {},
     "output_type": "execute_result"
    }
   ],
   "source": [
    "concatenated_df = pd.concat([df, df2])\n",
    "concatenated_df.tail()"
   ]
  },
  {
   "cell_type": "markdown",
   "metadata": {},
   "source": [
    "### Task 5 (Homework): Joins"
   ]
  },
  {
   "cell_type": "code",
   "execution_count": null,
   "metadata": {},
   "outputs": [],
   "source": [
    "import pandas as pd\n",
    "\n",
    "# Create dataframes function\n",
    "\n",
    "def create_joins_df():\n",
    "    # Creating DataFrame df1\n",
    "    data1 = {\n",
    "        'ID': list(range(1, 21)),\n",
    "        'Name': ['Employee'+str(i) for i in range(1, 21)],\n",
    "        'Department': ['Sales', 'Marketing', 'HR', 'Sales', 'IT', 'Marketing', 'HR', 'IT', 'Sales', 'Marketing',\n",
    "                    'HR', 'IT', 'Sales', 'Marketing', 'HR', 'IT', 'Sales', 'Marketing', 'HR', 'IT'],\n",
    "        'Start_Date': pd.date_range(start='01-01-2020', periods=20),\n",
    "        'Salary': [i*1000 for i in range(50, 70)]\n",
    "    }\n",
    "    df1 = pd.DataFrame(data1)\n",
    "\n",
    "    # Creating DataFrame df2\n",
    "    data2 = {\n",
    "        'Identifier': list(range(11, 31)),\n",
    "        'Role': ['Role'+str(i) for i in range(11, 31)],\n",
    "        'Years_of_Experience': [i for i in range(1, 21)]\n",
    "    }\n",
    "    df2 = pd.DataFrame(data2)\n",
    "\n",
    "    return df1, df2\n",
    "\n",
    "# Run DataFrame creation function\n",
    "df1, df2 = create_joins_df()\n",
    "df1.head(5)\n",
    "df2.head(5)"
   ]
  },
  {
   "cell_type": "markdown",
   "metadata": {},
   "source": [
    "##### 1. Write a line of code to perform an inner join of df1 and df2 on the ‘ID’ column.\n",
    "\n",
    "Note: The merge() function with how='inner' is useful for combining two DataFrames based on a common column, and only keeping rows that have matching values in both DataFrames."
   ]
  },
  {
   "cell_type": "code",
   "execution_count": null,
   "metadata": {},
   "outputs": [],
   "source": [
    "# Run DataFrame creation function\n",
    "df1, df2 = create_joins_df()\n"
   ]
  },
  {
   "cell_type": "markdown",
   "metadata": {},
   "source": [
    "##### 2. Write a line of code to perform an outer join of df1 and df2 on the ‘ID’ column.\n",
    "\n",
    "Note: The merge() function with how='outer' is useful for combining two DataFrames based on a common column, and keeping all rows from both DataFrames."
   ]
  },
  {
   "cell_type": "code",
   "execution_count": null,
   "metadata": {},
   "outputs": [],
   "source": [
    "# Run DataFrame creation function\n",
    "df1, df2 = create_joins_df()\n"
   ]
  },
  {
   "cell_type": "markdown",
   "metadata": {},
   "source": [
    "##### 3. Write a line of code to join df1 and df2 on different column names (‘ID’ in df1 and ‘Identifier’ in df2).\n",
    "\n",
    "Note: The merge() function with left_on and right_on parameters is useful for combining two DataFrames based on different column names."
   ]
  },
  {
   "cell_type": "code",
   "execution_count": null,
   "metadata": {},
   "outputs": [],
   "source": [
    "# Run DataFrame creation function\n",
    "df1, df2 = create_joins_df()\n"
   ]
  },
  {
   "cell_type": "markdown",
   "metadata": {},
   "source": [
    "##### 4. Write a line of code to join df1 and df2 on their indices.\n",
    "\n",
    "Note: The join() function is useful for combining two DataFrames based on their indices."
   ]
  },
  {
   "cell_type": "code",
   "execution_count": null,
   "metadata": {},
   "outputs": [],
   "source": [
    "# Run DataFrame creation function\n",
    "df1, df2 = create_joins_df()\n"
   ]
  },
  {
   "cell_type": "markdown",
   "metadata": {},
   "source": [
    "##### 5. Write a line of code to perform a left join of df1 and df2 on the ‘ID’ column.\n",
    "\n",
    "Note: The merge() function with how='left' is useful for combining two DataFrames based on a common column, and keeping all rows from the left DataFrame."
   ]
  },
  {
   "cell_type": "code",
   "execution_count": null,
   "metadata": {},
   "outputs": [],
   "source": [
    "# Run DataFrame creation function\n",
    "df1, df2 = create_joins_df()\n"
   ]
  },
  {
   "cell_type": "markdown",
   "metadata": {},
   "source": [
    "##### 6. Write a line of code to perform a right join of df1 and df2 on the ‘ID’ column.\n",
    "\n",
    "Note: The merge() function with how='right' is useful for combining two DataFrames based on a common column, and keeping all rows from the right DataFrame."
   ]
  },
  {
   "cell_type": "code",
   "execution_count": null,
   "metadata": {},
   "outputs": [],
   "source": [
    "# Run DataFrame creation function\n",
    "df1, df2 = create_joins_df()\n"
   ]
  },
  {
   "cell_type": "markdown",
   "metadata": {},
   "source": [
    "##### 7. Write a line of code to join df1 and df2 on the ‘ID’ column, where ‘ID’ is the index in df1 and a regular column in df2.\n",
    "\n",
    "Note: The combination of the .set_index() function and the .join() function is useful when you want to join two DataFrames based on an index in one DataFrame and a regular column in another DataFrame."
   ]
  },
  {
   "cell_type": "code",
   "execution_count": null,
   "metadata": {},
   "outputs": [],
   "source": [
    "# Run DataFrame creation function\n",
    "df1, df2 = create_joins_df()\n"
   ]
  },
  {
   "cell_type": "markdown",
   "metadata": {},
   "source": [
    "##### 8. Write a line of code to join df1 and df2, where ‘ID’ is a regular column in both DataFrames, but treat it as an index only for the purpose of joining.\n",
    "\n",
    "Note: The combination of the .set_index(), .join(), and .reset_index() functions is useful when you want to join two DataFrames based on a common column, but don’t want this column to be the index in your resulting DataFrame."
   ]
  },
  {
   "cell_type": "code",
   "execution_count": null,
   "metadata": {},
   "outputs": [],
   "source": [
    "# Run DataFrame creation function\n",
    "df1, df2 = create_joins_df()\n"
   ]
  }
 ],
 "metadata": {
  "kernelspec": {
   "display_name": "Python 3 (ipykernel)",
   "language": "python",
   "name": "python3"
  },
  "language_info": {
   "codemirror_mode": {
    "name": "ipython",
    "version": 3
   },
   "file_extension": ".py",
   "mimetype": "text/x-python",
   "name": "python",
   "nbconvert_exporter": "python",
   "pygments_lexer": "ipython3",
   "version": "3.11.5"
  }
 },
 "nbformat": 4,
 "nbformat_minor": 2
}
